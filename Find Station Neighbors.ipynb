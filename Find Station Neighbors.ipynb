{
 "cells": [
  {
   "cell_type": "code",
   "execution_count": 7,
   "metadata": {
    "collapsed": false
   },
   "outputs": [
    {
     "data": {
      "text/plain": [
       "u'loc_2dsphere'"
      ]
     },
     "execution_count": 7,
     "metadata": {},
     "output_type": "execute_result"
    }
   ],
   "source": [
    "from pymongo import MongoClient\n",
    "import json\n",
    "\n",
    "client = MongoClient('localhost',27017)\n",
    "\n",
    "db = client['stationdata']\n",
    "\n",
    "stations=db['stations']\n",
    "\n",
    "stations.ensure_index([(\"loc\",\"2dsphere\")])"
   ]
  },
  {
   "cell_type": "code",
   "execution_count": 4,
   "metadata": {
    "collapsed": false
   },
   "outputs": [
    {
     "name": "stdout",
     "output_type": "stream",
     "text": [
      "Help on function getElevationProfile in module GTOPO30:\n",
      "\n",
      "getElevationProfile(x0, y0, x1, y1)\n",
      "\n"
     ]
    }
   ],
   "source": [
    "from GTOPO30 import getElevationProfile\n",
    "\n",
    "help(getElevationProfile)"
   ]
  },
  {
   "cell_type": "code",
   "execution_count": 62,
   "metadata": {
    "collapsed": false
   },
   "outputs": [
    {
     "name": "stdout",
     "output_type": "stream",
     "text": [
      "Station KCAACAMP2 has no neighbors.\n",
      "KCAACAMP4's neighbors:\n",
      "(u'KCAACAMP7', 14, 0)\n",
      "KCAACAMP6's neighbors:\n",
      "(u'MUP573', 12, 0)\n",
      "KCAACAMP7's neighbors:\n",
      "(u'KCAACAMP4', 14, 0)\n",
      "(u'KCASOUTH8', 14, 0)\n",
      "(u'KCALODI2', 14, 0)\n",
      "Station KCAACAMP8 has no neighbors.\n"
     ]
    }
   ],
   "source": [
    "import re\n",
    "import numpy as np\n",
    "from pandas import DataFrame\n",
    "from GTOPO30 import getElevationProfile\n",
    "\n",
    "for station in stations.find({\n",
    "        \"_id\":re.compile('^KCA')\n",
    "    }).limit(5):\n",
    "    # Get neearby stations\n",
    "    neighborQuery = stations.find({\n",
    "            \"_id\":{\"$ne\":station['_id']},\n",
    "            \"loc\":{\"$near\":{\"$geometry\":station['loc'],\n",
    "               \"$maxDistance\":3000}\n",
    "              }\n",
    "        }).limit(5)\n",
    "    if neighborQuery.count()==0:\n",
    "        print \"Station %s has no neighbors.\"%station['_id']\n",
    "    else:\n",
    "        print \"%s's neighbors:\"%station['_id']\n",
    "        for neighbor in neighborQuery:\n",
    "            c0 = station['loc']['coordinates']\n",
    "            c1 = neighbor['loc']['coordinates']\n",
    "            elevProfile = DataFrame(getElevationProfile(c0[0],c0[1],c1[0],c1[1]),columns=('lon','lat','elev'))\n",
    "            relativePeakHeight = elevProfile['elev'].max() \\\n",
    "                - np.max([\n",
    "                        elevProfile['elev'][0],\n",
    "                        elevProfile['elev'][len(elevProfile['elev'])-1]\n",
    "                    ])\n",
    "            # TODO:\n",
    "            #  - check relativePeakHeight against threshold\n",
    "            #  - check proximity to water\n",
    "            #  - calc distance\n",
    "            \n",
    "            print(neighbor['_id'], elevProfile['elev'].max(),relativePeakHeight)"
   ]
  },
  {
   "cell_type": "code",
   "execution_count": null,
   "metadata": {
    "collapsed": true
   },
   "outputs": [],
   "source": []
  }
 ],
 "metadata": {
  "kernelspec": {
   "display_name": "Python 2",
   "language": "python",
   "name": "python2"
  },
  "language_info": {
   "codemirror_mode": {
    "name": "ipython",
    "version": 2
   },
   "file_extension": ".py",
   "mimetype": "text/x-python",
   "name": "python",
   "nbconvert_exporter": "python",
   "pygments_lexer": "ipython2",
   "version": "2.7.10"
  }
 },
 "nbformat": 4,
 "nbformat_minor": 0
}
