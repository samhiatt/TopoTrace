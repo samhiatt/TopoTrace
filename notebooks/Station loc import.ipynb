{
 "cells": [
  {
   "cell_type": "code",
   "execution_count": 2,
   "metadata": {},
   "outputs": [
    {
     "data": {
      "text/plain": [
       "Collection(Database(MongoClient('localhost', 27017), u'stationdata'), u'stations')"
      ]
     },
     "execution_count": 2,
     "output_type": "execute_result",
     "metadata": {}
    }
   ],
   "source": [
    "from pymongo import MongoClient\n",
    "import json\n",
    "\n",
    "client = MongoClient('localhost',27017)\n",
    "\n",
    "db = client['stationdata']\n",
    "\n",
    "stations=db['stations']\n",
    "\n",
    "stations"
   ]
  },
  {
   "cell_type": "markdown",
   "metadata": {},
   "source": [
    "### Load stations from stations.json"
   ]
  },
  {
   "cell_type": "code",
   "execution_count": 5,
   "metadata": {},
   "outputs": [
    {
     "data": {
      "text/plain": [
       "180736"
      ]
     },
     "execution_count": 5,
     "output_type": "execute_result",
     "metadata": {}
    }
   ],
   "source": [
    "with open(\"stations.json\") as infile:\n",
    "    data = json.loads(infile.read())\n",
    "    \n",
    "len(data)"
   ]
  },
  {
   "cell_type": "markdown",
   "metadata": {},
   "source": [
    "### Test db connection"
   ]
  },
  {
   "cell_type": "code",
   "execution_count": 6,
   "metadata": {},
   "outputs": [
    {
     "data": {
      "text/plain": [
       "27084"
      ]
     },
     "execution_count": 6,
     "output_type": "execute_result",
     "metadata": {}
    }
   ],
   "source": [
    "#for s in stations.find({}).limit(5):\n",
    "#    print s\n",
    "#print \"Done.\"\n",
    "stations.count()"
   ]
  },
  {
   "cell_type": "markdown",
   "metadata": {},
   "source": [
    "### Insert into db"
   ]
  },
  {
   "cell_type": "code",
   "execution_count": 9,
   "metadata": {},
   "outputs": [
    {
     "name": "stdout",
     "output_type": "stream",
     "text": [
      "Inserted 0 stations\nInserted 10000 stations"
     ]
    },
    {
     "name": "stdout",
     "output_type": "stream",
     "text": [
      "\nInserted 20000 stations"
     ]
    },
    {
     "name": "stdout",
     "output_type": "stream",
     "text": [
      "\nInserted 30000 stations"
     ]
    },
    {
     "name": "stdout",
     "output_type": "stream",
     "text": [
      "\nInserted 40000 stations"
     ]
    },
    {
     "name": "stdout",
     "output_type": "stream",
     "text": [
      "\nInserted 50000 stations"
     ]
    },
    {
     "name": "stdout",
     "output_type": "stream",
     "text": [
      "\nInserted 60000 stations"
     ]
    },
    {
     "name": "stdout",
     "output_type": "stream",
     "text": [
      "\nInserted 70000 stations"
     ]
    },
    {
     "name": "stdout",
     "output_type": "stream",
     "text": [
      "\nInserted 80000 stations"
     ]
    },
    {
     "name": "stdout",
     "output_type": "stream",
     "text": [
      "\nInserted 90000 stations"
     ]
    },
    {
     "name": "stdout",
     "output_type": "stream",
     "text": [
      "\nInserted 100000 stations"
     ]
    },
    {
     "name": "stdout",
     "output_type": "stream",
     "text": [
      "\nInserted 110000 stations"
     ]
    },
    {
     "name": "stdout",
     "output_type": "stream",
     "text": [
      "\nInserted 120000 stations"
     ]
    },
    {
     "name": "stdout",
     "output_type": "stream",
     "text": [
      "\nInserted 130000 stations"
     ]
    },
    {
     "name": "stdout",
     "output_type": "stream",
     "text": [
      "\nInserted 140000 stations"
     ]
    },
    {
     "name": "stdout",
     "output_type": "stream",
     "text": [
      "\nInserted 150000 stations"
     ]
    },
    {
     "name": "stdout",
     "output_type": "stream",
     "text": [
      "\nInserted 160000 stations"
     ]
    },
    {
     "name": "stdout",
     "output_type": "stream",
     "text": [
      "\nInserted 170000 stations"
     ]
    },
    {
     "name": "stdout",
     "output_type": "stream",
     "text": [
      "\nInserted 180000 stations"
     ]
    },
    {
     "name": "stdout",
     "output_type": "stream",
     "text": [
      "\nDone."
     ]
    },
    {
     "name": "stdout",
     "output_type": "stream",
     "text": [
      "\n"
     ]
    }
   ],
   "source": [
    "for i, station in enumerate(data):\n",
    "    stations.update({\n",
    "        \"_id\":station['_id']\n",
    "    },{\n",
    "        \"$set\":{\"loc\":station['loc']}\n",
    "    },upsert=True)\n",
    "    if i%10000==0: print(\"Inserted %i stations\"%i)\n",
    "        \n",
    "stations.ensure_index([(\"loc\",\"2dsphere\")])\n",
    "print \"Done.\""
   ]
  },
  {
   "cell_type": "markdown",
   "metadata": {},
   "source": [
    "### Test query"
   ]
  },
  {
   "cell_type": "code",
   "execution_count": 7,
   "metadata": {},
   "outputs": [
    {
     "name": "stdout",
     "output_type": "stream",
     "text": [
      "{u'loc': {u'type': u'Point', u'coordinates': [-122.44610596, 37.73482513]}, u'_id': u'KCASANFR346'}\n{u'loc': {u'type': u'Point', u'coordinates': [-122.442902, 37.732376]}, u'_id': u'KCASANFR70'}\n{u'loc': {u'type': u'Point', u'coordinates': [-122.44281769, 37.73213577]}, u'_id': u'KCASANFR149'}\n{u'loc': {u'type': u'Point', u'coordinates': [-122.44502258, 37.74751282]}, u'_id': u'KCASANFR315'}\n"
     ]
    }
   ],
   "source": [
    "import re\n",
    "\n",
    "stations.ensure_index([(\"loc\",\"2dsphere\")])\n",
    "\n",
    "for s in stations.find({\n",
    "        \"loc\":{\"$near\":{\"$geometry\":{\n",
    "                    \"type\":\"Point\",\n",
    "                    \"coordinates\":[-122.44, 37.74]\n",
    "                },\n",
    "               \"$maxDistance\":1000}\n",
    "              }\n",
    "    },{\n",
    "        \"loc\":1\n",
    "    }).limit(5):\n",
    "    print s"
   ]
  },
  {
   "cell_type": "code",
   "execution_count": 10,
   "metadata": {},
   "outputs": [
    {
     "data": {
      "text/plain": [
       "181229"
      ]
     },
     "execution_count": 10,
     "output_type": "execute_result",
     "metadata": {}
    }
   ],
   "source": [
    "stations.count()"
   ]
  },
  {
   "cell_type": "code",
   "execution_count": null,
   "metadata": {},
   "outputs": [],
   "source": [
    ""
   ]
  }
 ],
 "metadata": {
  "kernelspec": {
   "display_name": "Python 2",
   "language": "python",
   "name": "python2"
  },
  "language_info": {
   "codemirror_mode": {
    "name": "ipython",
    "version": 2.0
   },
   "file_extension": ".py",
   "mimetype": "text/x-python",
   "name": "python",
   "nbconvert_exporter": "python",
   "pygments_lexer": "ipython2",
   "version": "2.7.10"
  }
 },
 "nbformat": 4,
 "nbformat_minor": 0
}