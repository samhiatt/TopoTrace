{
 "cells": [
  {
   "cell_type": "code",
   "execution_count": 63,
   "metadata": {},
   "outputs": [
    {
     "data": {
      "text/plain": [
       "u'loc_2dsphere'"
      ]
     },
     "execution_count": 63,
     "output_type": "execute_result",
     "metadata": {}
    }
   ],
   "source": [
    "from pymongo import MongoClient\n",
    "import json\n",
    "\n",
    "client = MongoClient('localhost',27017)\n",
    "\n",
    "db = client['stationdata']\n",
    "\n",
    "stations=db['stations']\n",
    "\n",
    "stations.ensure_index([(\"loc\",\"2dsphere\")])"
   ]
  },
  {
   "cell_type": "code",
   "execution_count": 64,
   "metadata": {},
   "outputs": [
    {
     "name": "stdout",
     "output_type": "stream",
     "text": [
      "Help on function getElevationProfile in module GTOPO30:\n",
      "\n",
      "getElevationProfile(x0, y0, x1, y1)\n",
      "\n"
     ]
    }
   ],
   "source": [
    "from GTOPO30 import getElevationProfile\n",
    "\n",
    "help(getElevationProfile)"
   ]
  },
  {
   "cell_type": "code",
   "execution_count": 110,
   "metadata": {},
   "outputs": [
    {
     "name": "stdout",
     "output_type": "stream",
     "text": [
      "KCASANFR100's neighbors:\n",
      "(u'KCASANFR409', 169, 0, 1.2665936541670024)\n",
      "(u'KCADALYC10', 60, 0, 1.9700515459539902)\n",
      "(u'KCASANFR69', 54, 0, 2.09638632030956)\n",
      "(u'KCASANFR286', 54, 0, 2.1107234668178485)\n",
      "(u'KCASANFR503', 143, 0, 2.343634249449251)\n",
      "KCASANFR102's neighbors:\n",
      "(u'KCASANFR236', 58, 0, 0.4513471975187209)\n",
      "(u'KCASANFR564', 28, 0, 0.4915132298281701)\n",
      "(u'MPXOC1', 17, 0, 0.7427069960804095)\n",
      "(u'BUOYPXOC1', 17, 0, 0.7427069960804095)\n",
      "(u'KCASANFR549', 41, 0, 0.8257420796958704)\n",
      "KCASANFR107's neighbors:\n",
      "(u'KCASANFR99', 60, 0, 0.3628477282815465)\n",
      "(u'KCASANFR545', 21, 3, 1.4740860263336595)\n",
      "(u'KCASANFR302', 49, 0, 1.7360440108889432)\n",
      "(u'KCASANFR577', 9, 9, 1.9424675149028297)\n",
      "(u'KCASANFR97', 117, 62, 2.401585877587769)\n",
      "KCASANFR110's neighbors:\n",
      "(u'KCASANFR374', 121, 0, 0.32921132350909443)\n",
      "(u'KCASANFR382', 121, 0, 0.347037092168184)\n",
      "(u'KCASANFR392', 121, 0, 0.3914080970842387)\n",
      "(u'KCASANFR498', 121, 0, 0.5003745839531057)\n",
      "(u'KCASANFR388', 121, 0, 0.665680214683147)\n",
      "KCASANFR111's neighbors:\n",
      "(u'KCASANFR431', 60, 0, 0.051088336457556914)\n",
      "(u'KCASANFR149', 97, 0, 0.47450766454556986)\n",
      "(u'KCASANFR385', 60, 0, 0.47584979633632263)\n",
      "(u'KCASANFR70', 97, 0, 0.47626768588082946)\n",
      "(u'KCASANFR318', 60, 0, 0.7106671217126092)\n"
     ]
    },
    {
     "name": "stderr",
     "output_type": "stream",
     "text": [
      "/anaconda/lib/python2.7/site-packages/IPython/kernel/__main__.py:28: SettingWithCopyWarning: \n",
      "A value is trying to be set on a copy of a slice from a DataFrame\n",
      "\n",
      "See the the caveats in the documentation: http://pandas.pydata.org/pandas-docs/stable/indexing.html#indexing-view-versus-copy\n"
     ]
    }
   ],
   "source": [
    "import re\n",
    "import numpy as np\n",
    "from pandas import DataFrame\n",
    "from GTOPO30 import getElevationProfile\n",
    "from LatLon import LatLon\n",
    "\n",
    "for station in stations.find({\n",
    "        \"_id\":re.compile('^KCASANFR')\n",
    "    }).limit(5):\n",
    "    # Get neearby stations\n",
    "    neighborQuery = stations.find({\n",
    "            \"_id\":{\"$ne\":station['_id']},\n",
    "            \"loc\":{\"$near\":{\"$geometry\":station['loc'],\n",
    "               \"$maxDistance\":3000}\n",
    "              }\n",
    "        }).limit(5)\n",
    "    if neighborQuery.count()==np.nan:\n",
    "        print \"Station %s has no neighbors.\"%station['_id']\n",
    "    else:\n",
    "        print \"%s's neighbors:\"%station['_id']\n",
    "        c0 = station['loc']['coordinates']\n",
    "        stationLoc = LatLon(c0[1],c0[0])\n",
    "        for neighbor in neighborQuery:\n",
    "            c1 = neighbor['loc']['coordinates']\n",
    "            elevProfile = DataFrame(getElevationProfile(c0[0],c0[1],c1[0],c1[1]),\n",
    "                                    columns=('lon','lat','elev'))\n",
    "            elevs=elevProfile['elev']\n",
    "            elevs[elevs==-9999]=0  # set no-data to 0\n",
    "            #print (elevProfile)\n",
    "            relativePeakHeight = elevs.max() \\\n",
    "                - np.max([elevs[0],elevs[len(elevProfile)-1]])\n",
    "            neighborLoc = LatLon(c1[1],c1[0])\n",
    "            dist = stationLoc.distance(neighborLoc)\n",
    "            # TODO:\n",
    "            #  - check relativePeakHeight against threshold\n",
    "            #  - check proximity to water\n",
    "            \n",
    "            print(neighbor['_id'], elevs.max(),relativePeakHeight,dist)"
   ]
  },
  {
   "cell_type": "code",
   "execution_count": null,
   "metadata": {},
   "outputs": [],
   "source": [
    ""
   ]
  }
 ],
 "metadata": {
  "kernelspec": {
   "display_name": "Python 2",
   "language": "python",
   "name": "python2"
  },
  "language_info": {
   "codemirror_mode": {
    "name": "ipython",
    "version": 2.0
   },
   "file_extension": ".py",
   "mimetype": "text/x-python",
   "name": "python",
   "nbconvert_exporter": "python",
   "pygments_lexer": "ipython2",
   "version": "2.7.10"
  }
 },
 "nbformat": 4,
 "nbformat_minor": 0
}