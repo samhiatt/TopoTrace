{
 "cells": [
  {
   "cell_type": "code",
   "execution_count": 7,
   "metadata": {
    "collapsed": false
   },
   "outputs": [
    {
     "data": {
      "text/plain": [
       "Collection(Database(MongoClient('localhost', 27017), u'stationdata'), u'stations')"
      ]
     },
     "execution_count": 7,
     "metadata": {},
     "output_type": "execute_result"
    }
   ],
   "source": [
    "from pymongo import MongoClient\n",
    "import json\n",
    "\n",
    "client = MongoClient('localhost',27017)\n",
    "\n",
    "db = client['stationdata']\n",
    "\n",
    "stations=db['stations']\n",
    "\n",
    "stations"
   ]
  },
  {
   "cell_type": "markdown",
   "metadata": {},
   "source": [
    "### Load stations from stations.json"
   ]
  },
  {
   "cell_type": "code",
   "execution_count": 3,
   "metadata": {
    "collapsed": false
   },
   "outputs": [
    {
     "data": {
      "text/plain": [
       "180736"
      ]
     },
     "execution_count": 3,
     "metadata": {},
     "output_type": "execute_result"
    }
   ],
   "source": [
    "with open(\"stations.json\") as infile:\n",
    "    data = json.loads(infile.read())\n",
    "    \n",
    "len(data)"
   ]
  },
  {
   "cell_type": "markdown",
   "metadata": {},
   "source": [
    "### Test db connection"
   ]
  },
  {
   "cell_type": "code",
   "execution_count": 14,
   "metadata": {
    "collapsed": false
   },
   "outputs": [
    {
     "name": "stdout",
     "output_type": "stream",
     "text": [
      "Done.\n"
     ]
    }
   ],
   "source": [
    "for s in stations.find({}).limit(5):\n",
    "    print s\n",
    "print \"Done.\""
   ]
  },
  {
   "cell_type": "markdown",
   "metadata": {},
   "source": [
    "### Insert into db"
   ]
  },
  {
   "cell_type": "code",
   "execution_count": 15,
   "metadata": {
    "collapsed": true
   },
   "outputs": [
    {
     "name": "stdout",
     "output_type": "stream",
     "text": [
      "Inserted 0 stations\n",
      "Inserted 1000 stations\n",
      "Inserted 2000 stations\n",
      "Inserted 3000 stations\n",
      "Inserted 4000 stations\n",
      "Inserted 5000 stations\n",
      "Inserted 6000 stations\n",
      "Inserted 7000 stations\n",
      "Inserted 8000 stations\n",
      "Inserted 9000 stations\n",
      "Inserted 10000 stations\n",
      "Inserted 11000 stations\n",
      "Inserted 12000 stations\n",
      "Inserted 13000 stations\n",
      "Inserted 14000 stations\n",
      "Inserted 15000 stations\n",
      "Inserted 16000 stations\n",
      "Inserted 17000 stations\n",
      "Inserted 18000 stations\n",
      "Inserted 19000 stations\n",
      "Inserted 20000 stations\n",
      "Inserted 21000 stations\n",
      "Inserted 22000 stations\n",
      "Inserted 23000 stations\n",
      "Inserted 24000 stations\n",
      "Inserted 25000 stations\n",
      "Inserted 26000 stations\n",
      "Inserted 27000 stations\n",
      "Inserted 28000 stations\n",
      "Inserted 29000 stations\n",
      "Inserted 30000 stations\n",
      "Inserted 31000 stations\n",
      "Inserted 32000 stations\n",
      "Inserted 33000 stations\n",
      "Inserted 34000 stations\n",
      "Inserted 35000 stations\n",
      "Inserted 36000 stations\n",
      "Inserted 37000 stations\n",
      "Inserted 38000 stations\n",
      "Inserted 39000 stations\n",
      "Inserted 40000 stations\n",
      "Inserted 41000 stations\n",
      "Inserted 42000 stations\n",
      "Inserted 43000 stations\n",
      "Inserted 44000 stations\n",
      "Inserted 45000 stations\n",
      "Inserted 46000 stations\n",
      "Inserted 47000 stations\n",
      "Inserted 48000 stations\n",
      "Inserted 49000 stations\n",
      "Inserted 50000 stations\n",
      "Inserted 51000 stations\n",
      "Inserted 52000 stations\n",
      "Inserted 53000 stations\n",
      "Inserted 54000 stations\n",
      "Inserted 55000 stations\n",
      "Inserted 56000 stations\n",
      "Inserted 57000 stations\n",
      "Inserted 58000 stations\n",
      "Inserted 59000 stations\n",
      "Inserted 60000 stations\n",
      "Inserted 61000 stations\n",
      "Inserted 62000 stations\n",
      "Inserted 63000 stations\n",
      "Inserted 64000 stations\n",
      "Inserted 65000 stations\n",
      "Inserted 66000 stations\n",
      "Inserted 67000 stations\n",
      "Inserted 68000 stations\n",
      "Inserted 69000 stations\n",
      "Inserted 70000 stations\n",
      "Inserted 71000 stations\n",
      "Inserted 72000 stations\n",
      "Inserted 73000 stations\n",
      "Inserted 74000 stations\n",
      "Inserted 75000 stations\n",
      "Inserted 76000 stations\n",
      "Inserted 77000 stations\n",
      "Inserted 78000 stations\n",
      "Inserted 79000 stations\n",
      "Inserted 80000 stations\n",
      "Inserted 81000 stations\n",
      "Inserted 82000 stations\n",
      "Inserted 83000 stations\n",
      "Inserted 84000 stations\n",
      "Inserted 85000 stations\n",
      "Inserted 86000 stations\n",
      "Inserted 87000 stations\n",
      "Inserted 88000 stations\n",
      "Inserted 89000 stations\n",
      "Inserted 90000 stations\n",
      "Inserted 91000 stations\n",
      "Inserted 92000 stations\n",
      "Inserted 93000 stations\n",
      "Inserted 94000 stations\n",
      "Inserted 95000 stations\n",
      "Inserted 96000 stations\n",
      "Inserted 97000 stations\n",
      "Inserted 98000 stations\n",
      "Inserted 99000 stations\n",
      "Inserted 100000 stations\n",
      "Inserted 101000 stations\n",
      "Inserted 102000 stations\n",
      "Inserted 103000 stations\n",
      "Inserted 104000 stations\n",
      "Inserted 105000 stations\n",
      "Inserted 106000 stations\n",
      "Inserted 107000 stations\n",
      "Inserted 108000 stations\n",
      "Inserted 109000 stations\n",
      "Inserted 110000 stations\n",
      "Inserted 111000 stations\n",
      "Inserted 112000 stations\n",
      "Inserted 113000 stations\n",
      "Inserted 114000 stations\n",
      "Inserted 115000 stations\n",
      "Inserted 116000 stations\n",
      "Inserted 117000 stations\n",
      "Inserted 118000 stations\n",
      "Inserted 119000 stations\n",
      "Inserted 120000 stations\n",
      "Inserted 121000 stations\n",
      "Inserted 122000 stations\n",
      "Inserted 123000 stations\n",
      "Inserted 124000 stations\n",
      "Inserted 125000 stations\n",
      "Inserted 126000 stations\n",
      "Inserted 127000 stations\n",
      "Inserted 128000 stations\n",
      "Inserted 129000 stations\n",
      "Inserted 130000 stations\n",
      "Inserted 131000 stations\n",
      "Inserted 132000 stations\n",
      "Inserted 133000 stations\n",
      "Inserted 134000 stations\n",
      "Inserted 135000 stations\n",
      "Inserted 136000 stations\n",
      "Inserted 137000 stations\n",
      "Inserted 138000 stations\n",
      "Inserted 139000 stations\n",
      "Inserted 140000 stations\n",
      "Inserted 141000 stations\n",
      "Inserted 142000 stations\n",
      "Inserted 143000 stations\n",
      "Inserted 144000 stations\n",
      "Inserted 145000 stations\n",
      "Inserted 146000 stations\n",
      "Inserted 147000 stations\n",
      "Inserted 148000 stations\n",
      "Inserted 149000 stations\n",
      "Inserted 150000 stations\n",
      "Inserted 151000 stations\n",
      "Inserted 152000 stations\n",
      "Inserted 153000 stations\n",
      "Inserted 154000 stations\n",
      "Inserted 155000 stations\n",
      "Inserted 156000 stations\n",
      "Inserted 157000 stations\n",
      "Inserted 158000 stations\n",
      "Inserted 159000 stations\n",
      "Inserted 160000 stations\n",
      "Inserted 161000 stations\n",
      "Inserted 162000 stations\n",
      "Inserted 163000 stations\n",
      "Inserted 164000 stations\n",
      "Inserted 165000 stations\n",
      "Inserted 166000 stations\n",
      "Inserted 167000 stations\n",
      "Inserted 168000 stations\n",
      "Inserted 169000 stations\n",
      "Inserted 170000 stations\n",
      "Inserted 171000 stations\n",
      "Inserted 172000 stations\n",
      "Inserted 173000 stations\n",
      "Inserted 174000 stations\n",
      "Inserted 175000 stations\n",
      "Inserted 176000 stations\n",
      "Inserted 177000 stations\n",
      "Inserted 178000 stations\n",
      "Inserted 179000 stations\n",
      "Inserted 180000 stations\n",
      "Done.\n"
     ]
    }
   ],
   "source": [
    "for i, station in enumerate(data):\n",
    "    stations.insert(station)\n",
    "    if i%10000==0: print(\"Inserted %i stations\"%i)\n",
    "        \n",
    "stations.ensure_index([(\"loc\",\"2dsphere\")])\n",
    "print \"Done.\""
   ]
  },
  {
   "cell_type": "markdown",
   "metadata": {},
   "source": [
    "### Test query"
   ]
  },
  {
   "cell_type": "code",
   "execution_count": 26,
   "metadata": {
    "collapsed": false
   },
   "outputs": [
    {
     "name": "stdout",
     "output_type": "stream",
     "text": [
      "{u'loc': {u'type': u'Point', u'coordinates': [-122.44, 37.74]}, u'_id': u'MC9629'}\n",
      "{u'loc': {u'type': u'Point', u'coordinates': [-122.44597626, 37.74010468]}, u'_id': u'KCASANFR490'}\n",
      "{u'loc': {u'type': u'Point', u'coordinates': [-122.43358612, 37.74183273]}, u'_id': u'KCASANFR73'}\n",
      "{u'loc': {u'type': u'Point', u'coordinates': [-122.4380722, 37.73338318]}, u'_id': u'KCASANFR431'}\n",
      "{u'loc': {u'type': u'Point', u'coordinates': [-122.44380188, 37.74629974]}, u'_id': u'KCASANFR295'}\n"
     ]
    }
   ],
   "source": [
    "import re\n",
    "\n",
    "stations.ensure_index([(\"loc\",\"2dsphere\")])\n",
    "\n",
    "for s in stations.find({\n",
    "        \"loc\":{\"$near\":{\"$geometry\":{\n",
    "                    \"type\":\"Point\",\n",
    "                    \"coordinates\":[-122.44, 37.74]\n",
    "                },\n",
    "               \"$maxDistance\":1000}\n",
    "              }\n",
    "    }).limit(5):\n",
    "    print s"
   ]
  },
  {
   "cell_type": "code",
   "execution_count": null,
   "metadata": {
    "collapsed": true
   },
   "outputs": [],
   "source": []
  }
 ],
 "metadata": {
  "kernelspec": {
   "display_name": "Python 2",
   "language": "python",
   "name": "python2"
  },
  "language_info": {
   "codemirror_mode": {
    "name": "ipython",
    "version": 2
   },
   "file_extension": ".py",
   "mimetype": "text/x-python",
   "name": "python",
   "nbconvert_exporter": "python",
   "pygments_lexer": "ipython2",
   "version": "2.7.10"
  }
 },
 "nbformat": 4,
 "nbformat_minor": 0
}
